{
 "cells": [
  {
   "cell_type": "markdown",
   "metadata": {},
   "source": [
    "Линейная регрессия\n",
    "==========="
   ]
  },
  {
   "cell_type": "code",
   "execution_count": 217,
   "metadata": {},
   "outputs": [],
   "source": [
    "import pandas as pd\n",
    "#import pandas_profiling\n",
    "import numpy as np\n",
    "import matplotlib\n",
    "import matplotlib.pyplot as plt\n",
    "matplotlib.style.use('ggplot')\n",
    "%matplotlib inline"
   ]
  },
  {
   "cell_type": "code",
   "execution_count": 218,
   "metadata": {},
   "outputs": [],
   "source": [
    "### Зависит ли обилие птиц в лесах Австралии от характеристик леса? \n",
    "### (Loyn,1987, пример из кн. Quinn, Keough, 2002) 56 лесных участков в юго-восточной Виктории, Австралия \n",
    "### AREA - Площадь леса, га (логарифм)\n",
    "### DIST - Расстояние до ближайшего леса, км (логарифм)\n",
    "### LDIST - Расстояние до ближайшего леса большего размера, км (логарифм)\n",
    "### YR.ISOL - Год начала изоляции\n",
    "### GRAZE -  история выпаса скота от 1 (легкий) до 5 (тяжелый)\n",
    "### ALT - средняя высота (м)\n",
    "### ABUND - Обилие птиц\n"
   ]
  },
  {
   "cell_type": "code",
   "execution_count": 219,
   "metadata": {},
   "outputs": [],
   "source": [
    "df = pd.read_csv('loyn1.csv', sep=';', index_col=0, decimal=',')\n"
   ]
  },
  {
   "cell_type": "code",
   "execution_count": 220,
   "metadata": {},
   "outputs": [
    {
     "data": {
      "text/html": [
       "<div>\n",
       "<style scoped>\n",
       "    .dataframe tbody tr th:only-of-type {\n",
       "        vertical-align: middle;\n",
       "    }\n",
       "\n",
       "    .dataframe tbody tr th {\n",
       "        vertical-align: top;\n",
       "    }\n",
       "\n",
       "    .dataframe thead th {\n",
       "        text-align: right;\n",
       "    }\n",
       "</style>\n",
       "<table border=\"1\" class=\"dataframe\">\n",
       "  <thead>\n",
       "    <tr style=\"text-align: right;\">\n",
       "      <th></th>\n",
       "      <th>ABUND</th>\n",
       "      <th>AREA</th>\n",
       "      <th>DIST</th>\n",
       "      <th>LDIST</th>\n",
       "      <th>YR.ISOL</th>\n",
       "      <th>GRAZE</th>\n",
       "      <th>ALT</th>\n",
       "    </tr>\n",
       "    <tr>\n",
       "      <th>Site</th>\n",
       "      <th></th>\n",
       "      <th></th>\n",
       "      <th></th>\n",
       "      <th></th>\n",
       "      <th></th>\n",
       "      <th></th>\n",
       "      <th></th>\n",
       "    </tr>\n",
       "  </thead>\n",
       "  <tbody>\n",
       "    <tr>\n",
       "      <th>1</th>\n",
       "      <td>5.3</td>\n",
       "      <td>0.1</td>\n",
       "      <td>39</td>\n",
       "      <td>39</td>\n",
       "      <td>1968</td>\n",
       "      <td>2</td>\n",
       "      <td>160</td>\n",
       "    </tr>\n",
       "    <tr>\n",
       "      <th>2</th>\n",
       "      <td>2.0</td>\n",
       "      <td>0.5</td>\n",
       "      <td>234</td>\n",
       "      <td>234</td>\n",
       "      <td>1920</td>\n",
       "      <td>5</td>\n",
       "      <td>60</td>\n",
       "    </tr>\n",
       "    <tr>\n",
       "      <th>3</th>\n",
       "      <td>1.5</td>\n",
       "      <td>0.5</td>\n",
       "      <td>104</td>\n",
       "      <td>311</td>\n",
       "      <td>1900</td>\n",
       "      <td>5</td>\n",
       "      <td>140</td>\n",
       "    </tr>\n",
       "    <tr>\n",
       "      <th>4</th>\n",
       "      <td>17.1</td>\n",
       "      <td>1.0</td>\n",
       "      <td>66</td>\n",
       "      <td>66</td>\n",
       "      <td>1966</td>\n",
       "      <td>3</td>\n",
       "      <td>160</td>\n",
       "    </tr>\n",
       "    <tr>\n",
       "      <th>5</th>\n",
       "      <td>13.8</td>\n",
       "      <td>1.0</td>\n",
       "      <td>246</td>\n",
       "      <td>246</td>\n",
       "      <td>1918</td>\n",
       "      <td>5</td>\n",
       "      <td>140</td>\n",
       "    </tr>\n",
       "  </tbody>\n",
       "</table>\n",
       "</div>"
      ],
      "text/plain": [
       "      ABUND  AREA  DIST  LDIST  YR.ISOL  GRAZE  ALT\n",
       "Site                                               \n",
       "1       5.3   0.1    39     39     1968      2  160\n",
       "2       2.0   0.5   234    234     1920      5   60\n",
       "3       1.5   0.5   104    311     1900      5  140\n",
       "4      17.1   1.0    66     66     1966      3  160\n",
       "5      13.8   1.0   246    246     1918      5  140"
      ]
     },
     "execution_count": 220,
     "metadata": {},
     "output_type": "execute_result"
    }
   ],
   "source": [
    "df.head()"
   ]
  },
  {
   "cell_type": "code",
   "execution_count": 221,
   "metadata": {},
   "outputs": [
    {
     "name": "stdout",
     "output_type": "stream",
     "text": [
      "<class 'pandas.core.frame.DataFrame'>\n",
      "Int64Index: 56 entries, 1 to 56\n",
      "Data columns (total 7 columns):\n",
      " #   Column   Non-Null Count  Dtype  \n",
      "---  ------   --------------  -----  \n",
      " 0   ABUND    56 non-null     float64\n",
      " 1   AREA     56 non-null     float64\n",
      " 2   DIST     56 non-null     int64  \n",
      " 3   LDIST    56 non-null     int64  \n",
      " 4   YR.ISOL  56 non-null     int64  \n",
      " 5   GRAZE    56 non-null     int64  \n",
      " 6   ALT      56 non-null     int64  \n",
      "dtypes: float64(2), int64(5)\n",
      "memory usage: 3.5 KB\n"
     ]
    }
   ],
   "source": [
    "df.info()"
   ]
  },
  {
   "cell_type": "markdown",
   "metadata": {},
   "source": [
    "Прежде, чем строить модель, нужно решить вопрос с пропущенными значениями."
   ]
  },
  {
   "cell_type": "code",
   "execution_count": 222,
   "metadata": {},
   "outputs": [
    {
     "data": {
      "text/plain": [
       "ABUND      0\n",
       "AREA       0\n",
       "DIST       0\n",
       "LDIST      0\n",
       "YR.ISOL    0\n",
       "GRAZE      0\n",
       "ALT        0\n",
       "dtype: int64"
      ]
     },
     "execution_count": 222,
     "metadata": {},
     "output_type": "execute_result"
    }
   ],
   "source": [
    "df.isnull().sum()"
   ]
  },
  {
   "cell_type": "code",
   "execution_count": 223,
   "metadata": {},
   "outputs": [],
   "source": [
    "#pd.read_csv('loyn1.csv', sep=';', index_col=0, decimal=',').profile_report()"
   ]
  },
  {
   "cell_type": "markdown",
   "metadata": {},
   "source": [
    "#### Построение модели"
   ]
  },
  {
   "cell_type": "markdown",
   "metadata": {},
   "source": [
    "Теперь можно переходить непосредственно к построению модели."
   ]
  },
  {
   "cell_type": "code",
   "execution_count": 224,
   "metadata": {},
   "outputs": [],
   "source": [
    "from sklearn.linear_model import LinearRegression"
   ]
  },
  {
   "cell_type": "code",
   "execution_count": 225,
   "metadata": {},
   "outputs": [],
   "source": [
    "df['AREA'] = np.log(df['AREA'])\n",
    "df['DIST'] = np.log(df['DIST'])\n",
    "df['LDIST'] = np.log(df['LDIST'])\n",
    "\n",
    "X = df.drop('ABUND', axis=1)\n",
    "y = df['ABUND']\n"
   ]
  },
  {
   "cell_type": "code",
   "execution_count": 226,
   "metadata": {},
   "outputs": [
    {
     "data": {
      "text/plain": [
       "LinearRegression()"
      ]
     },
     "execution_count": 226,
     "metadata": {},
     "output_type": "execute_result"
    }
   ],
   "source": [
    "model = LinearRegression()\n",
    "model.fit(X, y)"
   ]
  },
  {
   "cell_type": "markdown",
   "metadata": {},
   "source": [
    "Считаем качество модели (коэффициент $R^2$)."
   ]
  },
  {
   "cell_type": "code",
   "execution_count": 227,
   "metadata": {},
   "outputs": [
    {
     "name": "stdout",
     "output_type": "stream",
     "text": [
      "0.6849359484494817\n"
     ]
    }
   ],
   "source": [
    "print(model.score(X, y))"
   ]
  },
  {
   "cell_type": "markdown",
   "metadata": {},
   "source": [
    "Коэффициент детерминации увеличился, значит качество модели улучшилось. Обилие птиц больше зависит от логарифмических показателей площади, дистанции до ближайшего леса и дистанции до ближайщего леса большей площади."
   ]
  },
  {
   "cell_type": "markdown",
   "metadata": {},
   "source": [
    "Выведем регрессионные коэффициенты с помощью метода ```coef_``` и свободный член с помощью метода ```intercept_```."
   ]
  },
  {
   "cell_type": "code",
   "execution_count": 228,
   "metadata": {},
   "outputs": [
    {
     "data": {
      "text/html": [
       "<div>\n",
       "<style scoped>\n",
       "    .dataframe tbody tr th:only-of-type {\n",
       "        vertical-align: middle;\n",
       "    }\n",
       "\n",
       "    .dataframe tbody tr th {\n",
       "        vertical-align: top;\n",
       "    }\n",
       "\n",
       "    .dataframe thead th {\n",
       "        text-align: right;\n",
       "    }\n",
       "</style>\n",
       "<table border=\"1\" class=\"dataframe\">\n",
       "  <thead>\n",
       "    <tr style=\"text-align: right;\">\n",
       "      <th></th>\n",
       "      <th>predictor</th>\n",
       "      <th>coef</th>\n",
       "    </tr>\n",
       "  </thead>\n",
       "  <tbody>\n",
       "    <tr>\n",
       "      <th>0</th>\n",
       "      <td>intercept</td>\n",
       "      <td>-125.697246</td>\n",
       "    </tr>\n",
       "    <tr>\n",
       "      <th>1</th>\n",
       "      <td>AREA</td>\n",
       "      <td>3.244278</td>\n",
       "    </tr>\n",
       "    <tr>\n",
       "      <th>2</th>\n",
       "      <td>DIST</td>\n",
       "      <td>-0.393886</td>\n",
       "    </tr>\n",
       "    <tr>\n",
       "      <th>3</th>\n",
       "      <td>LDIST</td>\n",
       "      <td>-0.281605</td>\n",
       "    </tr>\n",
       "    <tr>\n",
       "      <th>4</th>\n",
       "      <td>YR.ISOL</td>\n",
       "      <td>0.073871</td>\n",
       "    </tr>\n",
       "    <tr>\n",
       "      <th>5</th>\n",
       "      <td>GRAZE</td>\n",
       "      <td>-1.667738</td>\n",
       "    </tr>\n",
       "    <tr>\n",
       "      <th>6</th>\n",
       "      <td>ALT</td>\n",
       "      <td>0.019508</td>\n",
       "    </tr>\n",
       "  </tbody>\n",
       "</table>\n",
       "</div>"
      ],
      "text/plain": [
       "   predictor        coef\n",
       "0  intercept -125.697246\n",
       "1       AREA    3.244278\n",
       "2       DIST   -0.393886\n",
       "3      LDIST   -0.281605\n",
       "4    YR.ISOL    0.073871\n",
       "5      GRAZE   -1.667738\n",
       "6        ALT    0.019508"
      ]
     },
     "execution_count": 228,
     "metadata": {},
     "output_type": "execute_result"
    }
   ],
   "source": [
    "coef = pd.DataFrame(zip(['intercept'] + X.columns.tolist(), [model.intercept_] + model.coef_.tolist()),\n",
    "                    columns=['predictor', 'coef'])\n",
    "coef"
   ]
  },
  {
   "cell_type": "markdown",
   "metadata": {},
   "source": [
    "В ```sklearn``` не предусмотрена процедура определения статистической значимости регрессионных коэффициентов. Поэтому воспользуемся моделью из пакета ```statsmodels```."
   ]
  },
  {
   "cell_type": "code",
   "execution_count": 229,
   "metadata": {},
   "outputs": [
    {
     "data": {
      "text/html": [
       "<div>\n",
       "<style scoped>\n",
       "    .dataframe tbody tr th:only-of-type {\n",
       "        vertical-align: middle;\n",
       "    }\n",
       "\n",
       "    .dataframe tbody tr th {\n",
       "        vertical-align: top;\n",
       "    }\n",
       "\n",
       "    .dataframe thead th {\n",
       "        text-align: right;\n",
       "    }\n",
       "</style>\n",
       "<table border=\"1\" class=\"dataframe\">\n",
       "  <thead>\n",
       "    <tr style=\"text-align: right;\">\n",
       "      <th></th>\n",
       "      <th>predictor</th>\n",
       "      <th>coef</th>\n",
       "      <th>pvalue</th>\n",
       "    </tr>\n",
       "  </thead>\n",
       "  <tbody>\n",
       "    <tr>\n",
       "      <th>0</th>\n",
       "      <td>intercept</td>\n",
       "      <td>-125.697246</td>\n",
       "      <td>0.171713</td>\n",
       "    </tr>\n",
       "    <tr>\n",
       "      <th>1</th>\n",
       "      <td>AREA</td>\n",
       "      <td>3.244278</td>\n",
       "      <td>0.000004</td>\n",
       "    </tr>\n",
       "    <tr>\n",
       "      <th>2</th>\n",
       "      <td>DIST</td>\n",
       "      <td>-0.393886</td>\n",
       "      <td>0.733356</td>\n",
       "    </tr>\n",
       "    <tr>\n",
       "      <th>3</th>\n",
       "      <td>LDIST</td>\n",
       "      <td>-0.281605</td>\n",
       "      <td>0.758814</td>\n",
       "    </tr>\n",
       "    <tr>\n",
       "      <th>4</th>\n",
       "      <td>YR.ISOL</td>\n",
       "      <td>0.073871</td>\n",
       "      <td>0.104489</td>\n",
       "    </tr>\n",
       "    <tr>\n",
       "      <th>5</th>\n",
       "      <td>GRAZE</td>\n",
       "      <td>-1.667738</td>\n",
       "      <td>0.075507</td>\n",
       "    </tr>\n",
       "    <tr>\n",
       "      <th>6</th>\n",
       "      <td>ALT</td>\n",
       "      <td>0.019508</td>\n",
       "      <td>0.414345</td>\n",
       "    </tr>\n",
       "  </tbody>\n",
       "</table>\n",
       "</div>"
      ],
      "text/plain": [
       "   predictor        coef    pvalue\n",
       "0  intercept -125.697246  0.171713\n",
       "1       AREA    3.244278  0.000004\n",
       "2       DIST   -0.393886  0.733356\n",
       "3      LDIST   -0.281605  0.758814\n",
       "4    YR.ISOL    0.073871  0.104489\n",
       "5      GRAZE   -1.667738  0.075507\n",
       "6        ALT    0.019508  0.414345"
      ]
     },
     "execution_count": 229,
     "metadata": {},
     "output_type": "execute_result"
    }
   ],
   "source": [
    "from scipy import stats\n",
    "\n",
    "def regression_coef(model, X, y):\n",
    "    coef = pd.DataFrame(zip(['intercept'] + X.columns.tolist(), [model.intercept_] + model.coef_.tolist()),\n",
    "                    columns=['predictor', 'coef'])\n",
    "    X1 = np.append(np.ones((len(X),1)), X, axis=1)\n",
    "    b = np.append(model.intercept_, model.coef_)\n",
    "    MSE = np.sum((model.predict(X) - y) ** 2, axis=0) / float(X.shape[0] - X.shape[1])\n",
    "    var_b = MSE * (np.linalg.inv(np.dot(X1.T, X1)).diagonal())\n",
    "    sd_b = np.sqrt(var_b)\n",
    "    t = b / sd_b\n",
    "    coef['pvalue'] = [2 * (1 - stats.t.cdf(np.abs(i), (len(X1) - 1))) for i in t]\n",
    "    return coef\n",
    "regression_coef(model, X, y)"
   ]
  },
  {
   "cell_type": "markdown",
   "metadata": {},
   "source": [
    "Минимаксная нормализация для логарифмических значений (возникают проблемы при подсчете коэффициентов)"
   ]
  },
  {
   "cell_type": "code",
   "execution_count": 230,
   "metadata": {},
   "outputs": [
    {
     "name": "stdout",
     "output_type": "stream",
     "text": [
      "9.781884730776879 4.005233079455355 5.137154982589513\n"
     ]
    }
   ],
   "source": [
    "maxAREA = df['AREA'].max()\n",
    "minAREA = df['AREA'].min()\n",
    "kfAREA = maxAREA - minAREA\n",
    "\n",
    "maxDIST = df['DIST'].max()\n",
    "minDIST = df['DIST'].min()\n",
    "kfDIST = maxDIST - minDIST\n",
    "\n",
    "maxLDIST = df['LDIST'].max()\n",
    "minLDIST = df['LDIST'].min()\n",
    "kfLDIST = maxLDIST - minLDIST\n",
    "\n",
    "print(kfAREA, kfDIST, kfLDIST)"
   ]
  },
  {
   "cell_type": "code",
   "execution_count": 231,
   "metadata": {},
   "outputs": [
    {
     "name": "stdout",
     "output_type": "stream",
     "text": [
      "      ABUND      AREA      DIST     LDIST  YR.ISOL  GRAZE  ALT  normAREA  \\\n",
      "Site                                                                       \n",
      "1       5.3 -2.302585  3.663562  3.663562     1968      2  160  0.000000   \n",
      "2       2.0 -0.693147  5.455321  5.455321     1920      5   60  0.164532   \n",
      "3       1.5 -0.693147  4.644391  5.739793     1900      5  140  0.164532   \n",
      "4      17.1  0.000000  4.189655  4.189655     1966      3  160  0.235393   \n",
      "5      13.8  0.000000  5.505332  5.505332     1918      5  140  0.235393   \n",
      "6      14.1  0.000000  5.455321  5.652489     1965      3  130  0.235393   \n",
      "7       3.8  0.000000  6.146329  6.146329     1955      5   90  0.235393   \n",
      "8       2.2  0.000000  5.648974  7.511525     1920      5   60  0.235393   \n",
      "9       3.3  0.000000  5.049856  5.049856     1965      4  130  0.235393   \n",
      "10      3.0  0.000000  5.739793  6.347389     1900      5  130  0.235393   \n",
      "11     27.6  0.693147  4.189655  5.805135     1926      3  210  0.306253   \n",
      "12      1.8  0.693147  4.532599  4.532599     1890      5  160  0.306253   \n",
      "13     21.2  0.693147  3.663562  3.663562     1973      2  210  0.306253   \n",
      "14     14.6  0.693147  5.996452  5.996452     1972      1  210  0.306253   \n",
      "15      8.0  0.693147  5.556828  5.556828     1900      5  120  0.306253   \n",
      "16      3.5  0.693147  4.867534  6.434547     1900      5  145  0.306253   \n",
      "17     29.0  1.098612  3.258097  3.258097     1962      3  110  0.347704   \n",
      "18      2.9  1.098612  3.258097  3.258097     1965      3  140  0.347704   \n",
      "19     24.3  1.386294  3.688879  3.688879     1960      3  190  0.377113   \n",
      "20     19.4  1.386294  5.556828  5.556828     1953      2   90  0.377113   \n",
      "21     24.4  1.386294  5.455321  6.251904     1973      2  220  0.377113   \n",
      "22      5.0  1.386294  3.258097  7.698483     1923      5  120  0.377113   \n",
      "23     15.8  1.609438  3.663562  3.663562     1965      3  130  0.399925   \n",
      "24     25.3  1.609438  5.918894  5.918894     1967      1  100  0.399925   \n",
      "25     19.5  1.791759  4.532599  5.420535     1890      3  170  0.418564   \n",
      "26     20.9  1.791759  5.068904  6.916715     1960      3  150  0.418564   \n",
      "27     16.3  1.945910  5.652489  6.782192     1965      3  130  0.434323   \n",
      "28     18.8  1.945910  4.890349  4.890349     1960      4  210  0.434323   \n",
      "29     19.9  2.079442  5.583496  5.583496     1973      4  120  0.447974   \n",
      "30     13.0  2.197225  5.857933  7.532624     1910      5   90  0.460015   \n",
      "31      6.8  2.302585  5.820083  6.251904     1962      3  110  0.470786   \n",
      "32     21.7  2.397895  3.295837  3.295837     1960      4  175  0.480529   \n",
      "33     27.8  2.484907  5.068904  5.068904     1963      4  110  0.489424   \n",
      "34     26.8  2.484907  4.890349  4.890349     1960      4  200  0.489424   \n",
      "35     16.6  2.564949  4.983607  4.983607     1968      2  190  0.497607   \n",
      "36     30.4  2.708050  4.983607  5.986452     1966      3  120  0.512236   \n",
      "37     11.5  2.833213  5.963579  7.861342     1920      5  100  0.525032   \n",
      "38     26.0  2.890372  3.688879  8.067149     1966      2  190  0.530875   \n",
      "39     25.7  2.944439  5.583496  7.171657     1973      4  150  0.536402   \n",
      "40     12.7  3.091042  5.739793  7.890583     1918      5   90  0.551389   \n",
      "41     23.5  3.258097  6.391917  6.391917     1963      1  140  0.568467   \n",
      "42     24.9  3.367296  6.300786  6.646391     1965      3  130  0.579631   \n",
      "43     29.0  3.465736  5.337538  5.337538     1974      1  190  0.589694   \n",
      "44     28.3  3.526361  4.189655  5.843544     1965      1  110  0.595892   \n",
      "45     28.3  3.688879  5.652489  5.181784     1962      2  120  0.612506   \n",
      "46     32.0  3.784190  4.532599  4.532599     1960      3  190  0.622250   \n",
      "47     37.7  3.871201  5.556828  7.167809     1928      3  120  0.631145   \n",
      "48     39.6  3.891820  7.263330  7.350516     1972      1  180  0.633253   \n",
      "49     29.6  3.912023  5.986452  7.286876     1967      1  140  0.635318   \n",
      "50     31.0  4.043051  6.146329  6.146329     1963      1  165  0.648713   \n",
      "51     34.4  4.564348  3.663562  6.251904     1976      2  175  0.702005   \n",
      "52     27.3  4.682131  5.996452  8.395252     1964      1   70  0.714046   \n",
      "53     30.5  4.897840  6.146329  7.702104     1964      1  160  0.736098   \n",
      "54     33.0  4.969813  4.983607  5.765191     1940      1  190  0.743456   \n",
      "55     29.5  6.880384  5.820083  7.187657     1970      1  190  0.938773   \n",
      "56     30.9  7.479300  5.805135  5.805135     1933      1  260  1.000000   \n",
      "\n",
      "      normDIST  normLDIST  \n",
      "Site                       \n",
      "1     0.101234   0.078928  \n",
      "2     0.548588   0.427712  \n",
      "3     0.346121   0.483088  \n",
      "4     0.232585   0.181337  \n",
      "5     0.561075   0.437447  \n",
      "6     0.548588   0.466093  \n",
      "7     0.721115   0.562224  \n",
      "8     0.596938   0.827973  \n",
      "9     0.447355   0.348784  \n",
      "10    0.619613   0.601363  \n",
      "11    0.232585   0.495807  \n",
      "12    0.318209   0.248095  \n",
      "13    0.101234   0.078928  \n",
      "14    0.683694   0.533049  \n",
      "15    0.573932   0.447472  \n",
      "16    0.401834   0.618329  \n",
      "17    0.000000   0.000000  \n",
      "18    0.000000   0.000000  \n",
      "19    0.107555   0.083856  \n",
      "20    0.573932   0.447472  \n",
      "21    0.548588   0.582775  \n",
      "22    0.000000   0.864367  \n",
      "23    0.101234   0.078928  \n",
      "24    0.664330   0.517952  \n",
      "25    0.318209   0.420941  \n",
      "26    0.452110   0.712188  \n",
      "27    0.597816   0.686001  \n",
      "28    0.407530   0.317735  \n",
      "29    0.580590   0.452663  \n",
      "30    0.649110   0.832081  \n",
      "31    0.639660   0.582775  \n",
      "32    0.009423   0.007347  \n",
      "33    0.452110   0.352492  \n",
      "34    0.407530   0.317735  \n",
      "35    0.430814   0.335888  \n",
      "36    0.430814   0.531102  \n",
      "37    0.675487   0.896069  \n",
      "38    0.107555   0.936131  \n",
      "39    0.580590   0.761815  \n",
      "40    0.619613   0.901761  \n",
      "41    0.782432   0.610030  \n",
      "42    0.759678   0.659566  \n",
      "43    0.519181   0.404785  \n",
      "44    0.232585   0.503284  \n",
      "45    0.597816   0.374465  \n",
      "46    0.318209   0.248095  \n",
      "47    0.573932   0.761066  \n",
      "48    1.000000   0.796632  \n",
      "49    0.681198   0.784243  \n",
      "50    0.721115   0.562224  \n",
      "51    0.101234   0.582775  \n",
      "52    0.683694   1.000000  \n",
      "53    0.721115   0.865072  \n",
      "54    0.430814   0.488032  \n",
      "55    0.639660   0.764929  \n",
      "56    0.635928   0.495807  \n"
     ]
    }
   ],
   "source": [
    "normAREA = [0]\n",
    "for el in df['AREA']:\n",
    "        el = (el - minAREA)/kfAREA\n",
    "        normAREA.append(el)\n",
    "df['normAREA'] = pd.DataFrame(data = normAREA)\n",
    "\n",
    "normDIST = [0]\n",
    "for el in df['DIST']:\n",
    "        el = (el - minDIST)/kfDIST\n",
    "        normDIST.append(el)\n",
    "df['normDIST'] = pd.DataFrame(data = normDIST)\n",
    "\n",
    "normLDIST = [0]\n",
    "for el in df['LDIST']:\n",
    "        el = (el - minLDIST)/kfLDIST\n",
    "        normLDIST.append(el)\n",
    "df['normLDIST'] = pd.DataFrame(data = normLDIST)\n",
    "print(df)"
   ]
  },
  {
   "cell_type": "code",
   "execution_count": 232,
   "metadata": {},
   "outputs": [],
   "source": [
    "Xn = df.drop('ABUND', axis=1)\n",
    "yn = df['ABUND']"
   ]
  },
  {
   "cell_type": "code",
   "execution_count": 233,
   "metadata": {},
   "outputs": [
    {
     "data": {
      "text/plain": [
       "LinearRegression()"
      ]
     },
     "execution_count": 233,
     "metadata": {},
     "output_type": "execute_result"
    }
   ],
   "source": [
    "model = LinearRegression()\n",
    "model.fit(Xn, yn)"
   ]
  },
  {
   "cell_type": "code",
   "execution_count": 234,
   "metadata": {},
   "outputs": [
    {
     "name": "stdout",
     "output_type": "stream",
     "text": [
      "0.6849359484494819\n"
     ]
    }
   ],
   "source": [
    "print(model.score(Xn, yn))"
   ]
  },
  {
   "cell_type": "code",
   "execution_count": 235,
   "metadata": {},
   "outputs": [
    {
     "data": {
      "text/html": [
       "<div>\n",
       "<style scoped>\n",
       "    .dataframe tbody tr th:only-of-type {\n",
       "        vertical-align: middle;\n",
       "    }\n",
       "\n",
       "    .dataframe tbody tr th {\n",
       "        vertical-align: top;\n",
       "    }\n",
       "\n",
       "    .dataframe thead th {\n",
       "        text-align: right;\n",
       "    }\n",
       "</style>\n",
       "<table border=\"1\" class=\"dataframe\">\n",
       "  <thead>\n",
       "    <tr style=\"text-align: right;\">\n",
       "      <th></th>\n",
       "      <th>predictor</th>\n",
       "      <th>coef</th>\n",
       "    </tr>\n",
       "  </thead>\n",
       "  <tbody>\n",
       "    <tr>\n",
       "      <th>0</th>\n",
       "      <td>intercept</td>\n",
       "      <td>-125.883310</td>\n",
       "    </tr>\n",
       "    <tr>\n",
       "      <th>1</th>\n",
       "      <td>AREA</td>\n",
       "      <td>3.210723</td>\n",
       "    </tr>\n",
       "    <tr>\n",
       "      <th>2</th>\n",
       "      <td>DIST</td>\n",
       "      <td>-0.370773</td>\n",
       "    </tr>\n",
       "    <tr>\n",
       "      <th>3</th>\n",
       "      <td>LDIST</td>\n",
       "      <td>-0.271324</td>\n",
       "    </tr>\n",
       "    <tr>\n",
       "      <th>4</th>\n",
       "      <td>YR.ISOL</td>\n",
       "      <td>0.073871</td>\n",
       "    </tr>\n",
       "    <tr>\n",
       "      <th>5</th>\n",
       "      <td>GRAZE</td>\n",
       "      <td>-1.667738</td>\n",
       "    </tr>\n",
       "    <tr>\n",
       "      <th>6</th>\n",
       "      <td>ALT</td>\n",
       "      <td>0.019508</td>\n",
       "    </tr>\n",
       "    <tr>\n",
       "      <th>7</th>\n",
       "      <td>normAREA</td>\n",
       "      <td>0.328232</td>\n",
       "    </tr>\n",
       "    <tr>\n",
       "      <th>8</th>\n",
       "      <td>normDIST</td>\n",
       "      <td>-0.092572</td>\n",
       "    </tr>\n",
       "    <tr>\n",
       "      <th>9</th>\n",
       "      <td>normLDIST</td>\n",
       "      <td>-0.052816</td>\n",
       "    </tr>\n",
       "  </tbody>\n",
       "</table>\n",
       "</div>"
      ],
      "text/plain": [
       "   predictor        coef\n",
       "0  intercept -125.883310\n",
       "1       AREA    3.210723\n",
       "2       DIST   -0.370773\n",
       "3      LDIST   -0.271324\n",
       "4    YR.ISOL    0.073871\n",
       "5      GRAZE   -1.667738\n",
       "6        ALT    0.019508\n",
       "7   normAREA    0.328232\n",
       "8   normDIST   -0.092572\n",
       "9  normLDIST   -0.052816"
      ]
     },
     "execution_count": 235,
     "metadata": {},
     "output_type": "execute_result"
    }
   ],
   "source": [
    "coef = pd.DataFrame(zip(['intercept'] + Xn.columns.tolist(), [model.intercept_] + model.coef_.tolist()),\n",
    "                    columns=['predictor', 'coef'])\n",
    "coef"
   ]
  },
  {
   "cell_type": "code",
   "execution_count": 236,
   "metadata": {},
   "outputs": [
    {
     "name": "stderr",
     "output_type": "stream",
     "text": [
      "<ipython-input-229-827d510938b9>:10: RuntimeWarning: invalid value encountered in sqrt\n",
      "  sd_b = np.sqrt(var_b)\n",
      "C:\\Python\\lib\\site-packages\\scipy\\stats\\_distn_infrastructure.py:1847: RuntimeWarning: invalid value encountered in greater_equal\n",
      "  cond2 = (x >= np.asarray(_b)) & cond0\n"
     ]
    },
    {
     "data": {
      "text/html": [
       "<div>\n",
       "<style scoped>\n",
       "    .dataframe tbody tr th:only-of-type {\n",
       "        vertical-align: middle;\n",
       "    }\n",
       "\n",
       "    .dataframe tbody tr th {\n",
       "        vertical-align: top;\n",
       "    }\n",
       "\n",
       "    .dataframe thead th {\n",
       "        text-align: right;\n",
       "    }\n",
       "</style>\n",
       "<table border=\"1\" class=\"dataframe\">\n",
       "  <thead>\n",
       "    <tr style=\"text-align: right;\">\n",
       "      <th></th>\n",
       "      <th>predictor</th>\n",
       "      <th>coef</th>\n",
       "      <th>pvalue</th>\n",
       "    </tr>\n",
       "  </thead>\n",
       "  <tbody>\n",
       "    <tr>\n",
       "      <th>0</th>\n",
       "      <td>intercept</td>\n",
       "      <td>-125.883310</td>\n",
       "      <td>NaN</td>\n",
       "    </tr>\n",
       "    <tr>\n",
       "      <th>1</th>\n",
       "      <td>AREA</td>\n",
       "      <td>3.210723</td>\n",
       "      <td>NaN</td>\n",
       "    </tr>\n",
       "    <tr>\n",
       "      <th>2</th>\n",
       "      <td>DIST</td>\n",
       "      <td>-0.370773</td>\n",
       "      <td>NaN</td>\n",
       "    </tr>\n",
       "    <tr>\n",
       "      <th>3</th>\n",
       "      <td>LDIST</td>\n",
       "      <td>-0.271324</td>\n",
       "      <td>NaN</td>\n",
       "    </tr>\n",
       "    <tr>\n",
       "      <th>4</th>\n",
       "      <td>YR.ISOL</td>\n",
       "      <td>0.073871</td>\n",
       "      <td>0.115225</td>\n",
       "    </tr>\n",
       "    <tr>\n",
       "      <th>5</th>\n",
       "      <td>GRAZE</td>\n",
       "      <td>-1.667738</td>\n",
       "      <td>0.084582</td>\n",
       "    </tr>\n",
       "    <tr>\n",
       "      <th>6</th>\n",
       "      <td>ALT</td>\n",
       "      <td>0.019508</td>\n",
       "      <td>0.428624</td>\n",
       "    </tr>\n",
       "    <tr>\n",
       "      <th>7</th>\n",
       "      <td>normAREA</td>\n",
       "      <td>0.328232</td>\n",
       "      <td>NaN</td>\n",
       "    </tr>\n",
       "    <tr>\n",
       "      <th>8</th>\n",
       "      <td>normDIST</td>\n",
       "      <td>-0.092572</td>\n",
       "      <td>NaN</td>\n",
       "    </tr>\n",
       "    <tr>\n",
       "      <th>9</th>\n",
       "      <td>normLDIST</td>\n",
       "      <td>-0.052816</td>\n",
       "      <td>NaN</td>\n",
       "    </tr>\n",
       "  </tbody>\n",
       "</table>\n",
       "</div>"
      ],
      "text/plain": [
       "   predictor        coef    pvalue\n",
       "0  intercept -125.883310       NaN\n",
       "1       AREA    3.210723       NaN\n",
       "2       DIST   -0.370773       NaN\n",
       "3      LDIST   -0.271324       NaN\n",
       "4    YR.ISOL    0.073871  0.115225\n",
       "5      GRAZE   -1.667738  0.084582\n",
       "6        ALT    0.019508  0.428624\n",
       "7   normAREA    0.328232       NaN\n",
       "8   normDIST   -0.092572       NaN\n",
       "9  normLDIST   -0.052816       NaN"
      ]
     },
     "execution_count": 236,
     "metadata": {},
     "output_type": "execute_result"
    }
   ],
   "source": [
    "regression_coef(model, Xn, yn)"
   ]
  },
  {
   "cell_type": "markdown",
   "metadata": {},
   "source": [
    "Минимаксная нормализация для нелогарифмированных значений (однако она нерациональная, потому что потом нельзя прологарифмировать)"
   ]
  },
  {
   "cell_type": "code",
   "execution_count": 237,
   "metadata": {},
   "outputs": [],
   "source": [
    "dfnorm = pd.read_csv('loyn1.csv', sep=';', index_col=0, decimal=',')"
   ]
  },
  {
   "cell_type": "code",
   "execution_count": 238,
   "metadata": {},
   "outputs": [
    {
     "data": {
      "text/html": [
       "<div>\n",
       "<style scoped>\n",
       "    .dataframe tbody tr th:only-of-type {\n",
       "        vertical-align: middle;\n",
       "    }\n",
       "\n",
       "    .dataframe tbody tr th {\n",
       "        vertical-align: top;\n",
       "    }\n",
       "\n",
       "    .dataframe thead th {\n",
       "        text-align: right;\n",
       "    }\n",
       "</style>\n",
       "<table border=\"1\" class=\"dataframe\">\n",
       "  <thead>\n",
       "    <tr style=\"text-align: right;\">\n",
       "      <th></th>\n",
       "      <th>ABUND</th>\n",
       "      <th>AREA</th>\n",
       "      <th>DIST</th>\n",
       "      <th>LDIST</th>\n",
       "      <th>YR.ISOL</th>\n",
       "      <th>GRAZE</th>\n",
       "      <th>ALT</th>\n",
       "    </tr>\n",
       "    <tr>\n",
       "      <th>Site</th>\n",
       "      <th></th>\n",
       "      <th></th>\n",
       "      <th></th>\n",
       "      <th></th>\n",
       "      <th></th>\n",
       "      <th></th>\n",
       "      <th></th>\n",
       "    </tr>\n",
       "  </thead>\n",
       "  <tbody>\n",
       "    <tr>\n",
       "      <th>1</th>\n",
       "      <td>5.3</td>\n",
       "      <td>0.1</td>\n",
       "      <td>39</td>\n",
       "      <td>39</td>\n",
       "      <td>1968</td>\n",
       "      <td>2</td>\n",
       "      <td>160</td>\n",
       "    </tr>\n",
       "    <tr>\n",
       "      <th>2</th>\n",
       "      <td>2.0</td>\n",
       "      <td>0.5</td>\n",
       "      <td>234</td>\n",
       "      <td>234</td>\n",
       "      <td>1920</td>\n",
       "      <td>5</td>\n",
       "      <td>60</td>\n",
       "    </tr>\n",
       "    <tr>\n",
       "      <th>3</th>\n",
       "      <td>1.5</td>\n",
       "      <td>0.5</td>\n",
       "      <td>104</td>\n",
       "      <td>311</td>\n",
       "      <td>1900</td>\n",
       "      <td>5</td>\n",
       "      <td>140</td>\n",
       "    </tr>\n",
       "    <tr>\n",
       "      <th>4</th>\n",
       "      <td>17.1</td>\n",
       "      <td>1.0</td>\n",
       "      <td>66</td>\n",
       "      <td>66</td>\n",
       "      <td>1966</td>\n",
       "      <td>3</td>\n",
       "      <td>160</td>\n",
       "    </tr>\n",
       "    <tr>\n",
       "      <th>5</th>\n",
       "      <td>13.8</td>\n",
       "      <td>1.0</td>\n",
       "      <td>246</td>\n",
       "      <td>246</td>\n",
       "      <td>1918</td>\n",
       "      <td>5</td>\n",
       "      <td>140</td>\n",
       "    </tr>\n",
       "  </tbody>\n",
       "</table>\n",
       "</div>"
      ],
      "text/plain": [
       "      ABUND  AREA  DIST  LDIST  YR.ISOL  GRAZE  ALT\n",
       "Site                                               \n",
       "1       5.3   0.1    39     39     1968      2  160\n",
       "2       2.0   0.5   234    234     1920      5   60\n",
       "3       1.5   0.5   104    311     1900      5  140\n",
       "4      17.1   1.0    66     66     1966      3  160\n",
       "5      13.8   1.0   246    246     1918      5  140"
      ]
     },
     "execution_count": 238,
     "metadata": {},
     "output_type": "execute_result"
    }
   ],
   "source": [
    "dfnorm.head()"
   ]
  },
  {
   "cell_type": "code",
   "execution_count": 239,
   "metadata": {},
   "outputs": [
    {
     "name": "stdout",
     "output_type": "stream",
     "text": [
      "1770.9 1401 4400\n",
      "Site\n",
      "1        0.1\n",
      "2        0.5\n",
      "3        0.5\n",
      "4        1.0\n",
      "5        1.0\n",
      "6        1.0\n",
      "7        1.0\n",
      "8        1.0\n",
      "9        1.0\n",
      "10       1.0\n",
      "11       2.0\n",
      "12       2.0\n",
      "13       2.0\n",
      "14       2.0\n",
      "15       2.0\n",
      "16       2.0\n",
      "17       3.0\n",
      "18       3.0\n",
      "19       4.0\n",
      "20       4.0\n",
      "21       4.0\n",
      "22       4.0\n",
      "23       5.0\n",
      "24       5.0\n",
      "25       6.0\n",
      "26       6.0\n",
      "27       7.0\n",
      "28       7.0\n",
      "29       8.0\n",
      "30       9.0\n",
      "31      10.0\n",
      "32      11.0\n",
      "33      12.0\n",
      "34      12.0\n",
      "35      13.0\n",
      "36      15.0\n",
      "37      17.0\n",
      "38      18.0\n",
      "39      19.0\n",
      "40      22.0\n",
      "41      26.0\n",
      "42      29.0\n",
      "43      32.0\n",
      "44      34.0\n",
      "45      40.0\n",
      "46      44.0\n",
      "47      48.0\n",
      "48      49.0\n",
      "49      50.0\n",
      "50      57.0\n",
      "51      96.0\n",
      "52     108.0\n",
      "53     134.0\n",
      "54     144.0\n",
      "55     973.0\n",
      "56    1771.0\n",
      "Name: AREA, dtype: float64\n"
     ]
    }
   ],
   "source": [
    "maxAREA = dfnorm['AREA'].max()\n",
    "minAREA = dfnorm['AREA'].min()\n",
    "kfAREA = maxAREA - minAREA\n",
    "\n",
    "maxDIST = dfnorm['DIST'].max()\n",
    "minDIST = dfnorm['DIST'].min()\n",
    "kfDIST = maxDIST - minDIST\n",
    "\n",
    "maxLDIST = dfnorm['LDIST'].max()\n",
    "minLDIST = dfnorm['LDIST'].min()\n",
    "kfLDIST = maxLDIST - minLDIST\n",
    "\n",
    "print(kfAREA, kfDIST, kfLDIST)\n",
    "print(dfnorm['AREA'])"
   ]
  },
  {
   "cell_type": "code",
   "execution_count": 240,
   "metadata": {},
   "outputs": [],
   "source": [
    "normAREA = [0]\n",
    "for el in dfnorm['AREA']:\n",
    "        el = (el - minAREA)/kfAREA\n",
    "        normAREA.append(el)\n",
    "dfnorm['normAREA'] = pd.DataFrame(data = normAREA)"
   ]
  },
  {
   "cell_type": "code",
   "execution_count": 241,
   "metadata": {},
   "outputs": [],
   "source": [
    "normDIST = [0]\n",
    "for el in dfnorm['DIST']:\n",
    "        el = (el - minDIST)/kfDIST\n",
    "        normDIST.append(el)\n",
    "dfnorm['normDIST'] = pd.DataFrame(data = normDIST)\n"
   ]
  },
  {
   "cell_type": "code",
   "execution_count": 242,
   "metadata": {
    "scrolled": false
   },
   "outputs": [
    {
     "name": "stdout",
     "output_type": "stream",
     "text": [
      "      ABUND    AREA  DIST  LDIST  YR.ISOL  GRAZE  ALT  normAREA  normDIST  \\\n",
      "Site                                                                        \n",
      "1       5.3     0.1    39     39     1968      2  160  0.000000  0.009279   \n",
      "2       2.0     0.5   234    234     1920      5   60  0.000226  0.148465   \n",
      "3       1.5     0.5   104    311     1900      5  140  0.000226  0.055675   \n",
      "4      17.1     1.0    66     66     1966      3  160  0.000508  0.028551   \n",
      "5      13.8     1.0   246    246     1918      5  140  0.000508  0.157031   \n",
      "6      14.1     1.0   234    285     1965      3  130  0.000508  0.148465   \n",
      "7       3.8     1.0   467    467     1955      5   90  0.000508  0.314775   \n",
      "8       2.2     1.0   284   1829     1920      5   60  0.000508  0.184154   \n",
      "9       3.3     1.0   156    156     1965      4  130  0.000508  0.092791   \n",
      "10      3.0     1.0   311    571     1900      5  130  0.000508  0.203426   \n",
      "11     27.6     2.0    66    332     1926      3  210  0.001073  0.028551   \n",
      "12      1.8     2.0    93     93     1890      5  160  0.001073  0.047823   \n",
      "13     21.2     2.0    39     39     1973      2  210  0.001073  0.009279   \n",
      "14     14.6     2.0   402    402     1972      1  210  0.001073  0.268380   \n",
      "15      8.0     2.0   259    259     1900      5  120  0.001073  0.166310   \n",
      "16      3.5     2.0   130    623     1900      5  145  0.001073  0.074233   \n",
      "17     29.0     3.0    26     26     1962      3  110  0.001638  0.000000   \n",
      "18      2.9     3.0    26     26     1965      3  140  0.001638  0.000000   \n",
      "19     24.3     4.0    40     40     1960      3  190  0.002202  0.009993   \n",
      "20     19.4     4.0   259    259     1953      2   90  0.002202  0.166310   \n",
      "21     24.4     4.0   234    519     1973      2  220  0.002202  0.148465   \n",
      "22      5.0     4.0    26   2205     1923      5  120  0.002202  0.000000   \n",
      "23     15.8     5.0    39     39     1965      3  130  0.002767  0.009279   \n",
      "24     25.3     5.0   372    372     1967      1  100  0.002767  0.246966   \n",
      "25     19.5     6.0    93    226     1890      3  170  0.003332  0.047823   \n",
      "26     20.9     6.0   159   1009     1960      3  150  0.003332  0.094932   \n",
      "27     16.3     7.0   285    882     1965      3  130  0.003896  0.184868   \n",
      "28     18.8     7.0   133    133     1960      4  210  0.003896  0.076374   \n",
      "29     19.9     8.0   266    266     1973      4  120  0.004461  0.171306   \n",
      "30     13.0     9.0   350   1868     1910      5   90  0.005026  0.231263   \n",
      "31      6.8    10.0   337    519     1962      3  110  0.005590  0.221984   \n",
      "32     21.7    11.0    27     27     1960      4  175  0.006155  0.000714   \n",
      "33     27.8    12.0   159    159     1963      4  110  0.006720  0.094932   \n",
      "34     26.8    12.0   133    133     1960      4  200  0.006720  0.076374   \n",
      "35     16.6    13.0   146    146     1968      2  190  0.007284  0.085653   \n",
      "36     30.4    15.0   146    398     1966      3  120  0.008414  0.085653   \n",
      "37     11.5    17.0   389   2595     1920      5  100  0.009543  0.259101   \n",
      "38     26.0    18.0    40   3188     1966      2  190  0.010108  0.009993   \n",
      "39     25.7    19.0   266   1302     1973      4  150  0.010673  0.171306   \n",
      "40     12.7    22.0   311   2672     1918      5   90  0.012367  0.203426   \n",
      "41     23.5    26.0   597    597     1963      1  140  0.014625  0.407566   \n",
      "42     24.9    29.0   545    770     1965      3  130  0.016319  0.370450   \n",
      "43     29.0    32.0   208    208     1974      1  190  0.018013  0.129907   \n",
      "44     28.3    34.0    66    345     1965      1  110  0.019143  0.028551   \n",
      "45     28.3    40.0   285    178     1962      2  120  0.022531  0.184868   \n",
      "46     32.0    44.0    93     93     1960      3  190  0.024790  0.047823   \n",
      "47     37.7    48.0   259   1297     1928      3  120  0.027048  0.166310   \n",
      "48     39.6    49.0  1427   1557     1972      1  180  0.027613  1.000000   \n",
      "49     29.6    50.0   398   1461     1967      1  140  0.028178  0.265525   \n",
      "50     31.0    57.0   467    467     1963      1  165  0.032131  0.314775   \n",
      "51     34.4    96.0    39    519     1976      2  175  0.054153  0.009279   \n",
      "52     27.3   108.0   402   4426     1964      1   70  0.060929  0.268380   \n",
      "53     30.5   134.0   467   2213     1964      1  160  0.075611  0.314775   \n",
      "54     33.0   144.0   146    319     1940      1  190  0.081258  0.085653   \n",
      "55     29.5   973.0   337   1323     1970      1  190  0.549382  0.221984   \n",
      "56     30.9  1771.0   332    332     1933      1  260  1.000000  0.218415   \n",
      "\n",
      "      normLDIST  \n",
      "Site             \n",
      "1      0.002955  \n",
      "2      0.047273  \n",
      "3      0.064773  \n",
      "4      0.009091  \n",
      "5      0.050000  \n",
      "6      0.058864  \n",
      "7      0.100227  \n",
      "8      0.409773  \n",
      "9      0.029545  \n",
      "10     0.123864  \n",
      "11     0.069545  \n",
      "12     0.015227  \n",
      "13     0.002955  \n",
      "14     0.085455  \n",
      "15     0.052955  \n",
      "16     0.135682  \n",
      "17     0.000000  \n",
      "18     0.000000  \n",
      "19     0.003182  \n",
      "20     0.052955  \n",
      "21     0.112045  \n",
      "22     0.495227  \n",
      "23     0.002955  \n",
      "24     0.078636  \n",
      "25     0.045455  \n",
      "26     0.223409  \n",
      "27     0.194545  \n",
      "28     0.024318  \n",
      "29     0.054545  \n",
      "30     0.418636  \n",
      "31     0.112045  \n",
      "32     0.000227  \n",
      "33     0.030227  \n",
      "34     0.024318  \n",
      "35     0.027273  \n",
      "36     0.084545  \n",
      "37     0.583864  \n",
      "38     0.718636  \n",
      "39     0.290000  \n",
      "40     0.601364  \n",
      "41     0.129773  \n",
      "42     0.169091  \n",
      "43     0.041364  \n",
      "44     0.072500  \n",
      "45     0.034545  \n",
      "46     0.015227  \n",
      "47     0.288864  \n",
      "48     0.347955  \n",
      "49     0.326136  \n",
      "50     0.100227  \n",
      "51     0.112045  \n",
      "52     1.000000  \n",
      "53     0.497045  \n",
      "54     0.066591  \n",
      "55     0.294773  \n",
      "56     0.069545  \n"
     ]
    }
   ],
   "source": [
    "normLDIST = [0]\n",
    "for el in dfnorm['LDIST']:\n",
    "        el = (el - minLDIST)/kfLDIST\n",
    "        normLDIST.append(el)\n",
    "dfnorm['normLDIST'] = pd.DataFrame(data = normLDIST)\n",
    "print(dfnorm)"
   ]
  }
 ],
 "metadata": {
  "kernelspec": {
   "display_name": "Python 3",
   "language": "python",
   "name": "python3"
  },
  "language_info": {
   "codemirror_mode": {
    "name": "ipython",
    "version": 3
   },
   "file_extension": ".py",
   "mimetype": "text/x-python",
   "name": "python",
   "nbconvert_exporter": "python",
   "pygments_lexer": "ipython3",
   "version": "3.8.3"
  }
 },
 "nbformat": 4,
 "nbformat_minor": 2
}
